{
 "cells": [
  {
   "cell_type": "markdown",
   "metadata": {},
   "source": [
    "Create a DataFrame from an RDD through reflection method\n",
    "\n",
    "Import findspark and initiate.\n",
    "Then import pyspark"
   ]
  },
  {
   "cell_type": "code",
   "execution_count": null,
   "metadata": {},
   "outputs": [],
   "source": [
    "import findspark\n",
    "findspark.init('/usr/local/spark')\n",
    "import pyspark"
   ]
  },
  {
   "cell_type": "markdown",
   "metadata": {},
   "source": [
    "Start SparkSession"
   ]
  },
  {
   "cell_type": "code",
   "execution_count": null,
   "metadata": {},
   "outputs": [],
   "source": [
    "from pyspark.sql import SparkSession\n",
    "spark = SparkSession.builder.appName(\"Python Spark SQL example\").getOrCreate()"
   ]
  },
  {
   "cell_type": "code",
   "execution_count": null,
   "metadata": {},
   "outputs": [],
   "source": [
    "from pyspark.sql import Row"
   ]
  },
  {
   "cell_type": "code",
   "execution_count": null,
   "metadata": {},
   "outputs": [],
   "source": [
    "sc = spark.sparkContext"
   ]
  },
  {
   "cell_type": "markdown",
   "metadata": {},
   "source": [
    "Create an RDD from the structured text file"
   ]
  },
  {
   "cell_type": "code",
   "execution_count": null,
   "metadata": {},
   "outputs": [],
   "source": [
    "clines = sc.textFile(\"customers.txt\")"
   ]
  },
  {
   "cell_type": "markdown",
   "metadata": {},
   "source": [
    "Transform this RDD of text lines to an RDD of \"Row\"s with each Row having the 5 fields of the text input lines."
   ]
  },
  {
   "cell_type": "code",
   "execution_count": null,
   "metadata": {},
   "outputs": [],
   "source": [
    "cfields = clines.map(lambda l: l.split(\"\\t\"))"
   ]
  },
  {
   "cell_type": "code",
   "execution_count": null,
   "metadata": {},
   "outputs": [],
   "source": [
    "customers = cfields.map(lambda p: Row(cid=p[0],cname=p[1],ccity=p[2],cstate=p[3],czip=p[4]))"
   ]
  },
  {
   "cell_type": "code",
   "execution_count": null,
   "metadata": {},
   "outputs": [],
   "source": [
    "customers.take(3)"
   ]
  },
  {
   "cell_type": "markdown",
   "metadata": {},
   "source": [
    "Infer the schema, and register the DataFrame as a table (temp view)."
   ]
  },
  {
   "cell_type": "code",
   "execution_count": 13,
   "metadata": {},
   "outputs": [],
   "source": [
    "customerDF = spark.createDataFrame(customers)"
   ]
  },
  {
   "cell_type": "code",
   "execution_count": 14,
   "metadata": {},
   "outputs": [
    {
     "name": "stdout",
     "output_type": "stream",
     "text": [
      "root\n",
      " |-- ccity: string (nullable = true)\n",
      " |-- cid: string (nullable = true)\n",
      " |-- cname: string (nullable = true)\n",
      " |-- cstate: string (nullable = true)\n",
      " |-- czip: string (nullable = true)\n",
      "\n"
     ]
    }
   ],
   "source": [
    "customerDF.printSchema()"
   ]
  },
  {
   "cell_type": "code",
   "execution_count": null,
   "metadata": {},
   "outputs": [],
   "source": [
    "customerDF.select(\"cname\").show()"
   ]
  },
  {
   "cell_type": "code",
   "execution_count": null,
   "metadata": {},
   "outputs": [],
   "source": [
    "customerDF.select(customerDF['cname'], customerDF['ccity']).show()"
   ]
  },
  {
   "cell_type": "code",
   "execution_count": 15,
   "metadata": {},
   "outputs": [
    {
     "name": "stdout",
     "output_type": "stream",
     "text": [
      "+---------------+-----+----------------+------+-----+\n",
      "|          ccity|  cid|           cname|cstate| czip|\n",
      "+---------------+-----+----------------+------+-----+\n",
      "|        Modesto| 5577|      Mary Smith|    CA|95350|\n",
      "|Rowland Heights| 1745|      Mary Smith|    CA|91748|\n",
      "|      San Diego|11444|Kathleen Patrick|    CA|92109|\n",
      "|          Indio| 8846|    Thomas Smith|    CA|92201|\n",
      "|       El Cajon| 6237|  Bobby Anderson|    CA|92020|\n",
      "|  Panorama City| 4085|       Mary Carr|    CA|91402|\n",
      "|       Stockton| 8705|  Patricia Smith|    CA|95207|\n",
      "| San Bernardino| 3669|       Mary Soto|    CA|92410|\n",
      "|    Los Angeles| 6101|      Mary Smith|    CA|90033|\n",
      "|  Laguna Niguel|11697|  Jessica Thomas|    CA|92677|\n",
      "|       Winnetka| 1295|   Theresa Lopez|    CA|91306|\n",
      "|    Simi Valley| 4814|     Paul Suarez|    CA|93065|\n",
      "|       Highland| 8530|   William Smith|    CA|92346|\n",
      "|        Ontario| 3846|    Ronald Lewis|    CA|91764|\n",
      "|       Cerritos|10476|     John Hodges|    CA|90703|\n",
      "|    Los Angeles|10243|  Donna Anderson|    CA|90034|\n",
      "|        Modesto|11595|   Zachary Jones|    CA|95355|\n",
      "|      San Diego|  847|  Jerry Ferguson|    CA|92102|\n",
      "|        Salinas| 3440|    Mary Edwards|    CA|93905|\n",
      "|  Moreno Valley| 3400|     Frank Lewis|    CA|92557|\n",
      "+---------------+-----+----------------+------+-----+\n",
      "only showing top 20 rows\n",
      "\n"
     ]
    }
   ],
   "source": [
    "customerDF.filter(customerDF['cstate'] == 'CA').show()"
   ]
  },
  {
   "cell_type": "code",
   "execution_count": 16,
   "metadata": {},
   "outputs": [
    {
     "name": "stdout",
     "output_type": "stream",
     "text": [
      "+------+-----+\n",
      "|cstate|count|\n",
      "+------+-----+\n",
      "|    AZ|   19|\n",
      "|    SC|    2|\n",
      "|    LA|    7|\n",
      "|    MN|    1|\n",
      "|    NJ|   19|\n",
      "|    DC|    4|\n",
      "|    OR|    4|\n",
      "|    VA|   14|\n",
      "|    RI|    2|\n",
      "|    KY|    1|\n",
      "|    MI|   28|\n",
      "|    NV|   16|\n",
      "|    WI|    9|\n",
      "|    ID|    2|\n",
      "|    CA|  187|\n",
      "|    CT|    8|\n",
      "|    NC|   19|\n",
      "|    MD|   19|\n",
      "|    DE|    1|\n",
      "|    MO|   13|\n",
      "+------+-----+\n",
      "only showing top 20 rows\n",
      "\n"
     ]
    }
   ],
   "source": [
    "customerDF.groupBy(\"cstate\").count().show()"
   ]
  },
  {
   "cell_type": "markdown",
   "metadata": {},
   "source": [
    "Create the temp view to be able to run SQL queries on the DataFrame"
   ]
  },
  {
   "cell_type": "code",
   "execution_count": 17,
   "metadata": {},
   "outputs": [],
   "source": [
    "customerDF.createOrReplaceTempView(\"customers\")"
   ]
  },
  {
   "cell_type": "code",
   "execution_count": 18,
   "metadata": {},
   "outputs": [],
   "source": [
    "cStateCount50 = spark.sql(\"SELECT cstate, count(*) as sttcount FROM customers GROUP BY cstate HAVING sttcount>=50\")"
   ]
  },
  {
   "cell_type": "code",
   "execution_count": 19,
   "metadata": {},
   "outputs": [
    {
     "name": "stdout",
     "output_type": "stream",
     "text": [
      "+------+--------+\n",
      "|cstate|sttcount|\n",
      "+------+--------+\n",
      "|    CA|     187|\n",
      "|    NY|      79|\n",
      "|    TX|      62|\n",
      "|    PR|     505|\n",
      "+------+--------+\n",
      "\n"
     ]
    }
   ],
   "source": [
    "cStateCount50.show()"
   ]
  },
  {
   "cell_type": "code",
   "execution_count": null,
   "metadata": {},
   "outputs": [],
   "source": [
    "cStateCount50.printSchema()"
   ]
  },
  {
   "cell_type": "code",
   "execution_count": null,
   "metadata": {},
   "outputs": [],
   "source": [
    "type(cStateCount50)"
   ]
  },
  {
   "cell_type": "code",
   "execution_count": 20,
   "metadata": {},
   "outputs": [],
   "source": [
    "sc.stop()"
   ]
  },
  {
   "cell_type": "code",
   "execution_count": null,
   "metadata": {},
   "outputs": [],
   "source": []
  }
 ],
 "metadata": {
  "kernelspec": {
   "display_name": "Python 3",
   "language": "python",
   "name": "python3"
  },
  "language_info": {
   "codemirror_mode": {
    "name": "ipython",
    "version": 3
   },
   "file_extension": ".py",
   "mimetype": "text/x-python",
   "name": "python",
   "nbconvert_exporter": "python",
   "pygments_lexer": "ipython3",
   "version": "3.6.5"
  }
 },
 "nbformat": 4,
 "nbformat_minor": 2
}
